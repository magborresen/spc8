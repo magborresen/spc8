{
 "cells": [
  {
   "cell_type": "code",
   "execution_count": 1,
   "metadata": {},
   "outputs": [],
   "source": [
    "import numpy as np\n",
    "import matplotlib.pyplot as plt"
   ]
  },
  {
   "cell_type": "code",
   "execution_count": 22,
   "metadata": {},
   "outputs": [
    {
     "name": "stdout",
     "output_type": "stream",
     "text": [
      "1.000001 1.000015\n",
      "1.000016 1.00003\n",
      "1.000031 1.000045\n",
      "1.000046 1.00006\n",
      "1.000061 1.000075\n",
      "1.000076 1.00009\n",
      "1.000091 1.000105\n",
      "1.000106 1.00012\n",
      "1.000121 1.000135\n",
      "1.000136 1.00015\n"
     ]
    }
   ],
   "source": [
    "k_obs = 1\n",
    "k_space = 1\n",
    "t_chirp = 1e-6\n",
    "t_obs = 15e-6\n",
    "t_rx = 14e-6\n",
    "low =  t_chirp\n",
    "high = t_obs\n",
    "t_vec = []\n",
    "for m_ch in range(10):\n",
    "    print(low + (m_ch*high) + k_obs*k_space, high*(m_ch+1) + k_obs*k_space)\n",
    "    t_vec.append(np.random.uniform(low=low + m_ch*high, high=high * (m_ch+1)))\n",
    "\n",
    "#plt.plot(t_vec)"
   ]
  },
  {
   "cell_type": "code",
   "execution_count": 20,
   "metadata": {},
   "outputs": [
    {
     "data": {
      "text/plain": [
       "0.000135"
      ]
     },
     "execution_count": 20,
     "metadata": {},
     "output_type": "execute_result"
    }
   ],
   "source": []
  },
  {
   "cell_type": "code",
   "execution_count": 22,
   "metadata": {},
   "outputs": [
    {
     "name": "stdout",
     "output_type": "stream",
     "text": [
      "[0.0e+00 1.5e-05 3.0e-05 4.5e-05 6.0e-05] [1.0e-06 1.6e-05 3.1e-05 4.6e-05 6.1e-05]\n"
     ]
    }
   ],
   "source": [
    "a = np.linspace(0, 4*15e-6, 5)\n",
    "print(a, a+1e-6)"
   ]
  },
  {
   "cell_type": "code",
   "execution_count": 10,
   "metadata": {},
   "outputs": [
    {
     "data": {
      "text/plain": [
       "(1e-06, 1.6e-05, 3.1e-05, 4.6e-05, 6.1e-05, 7.6e-05)"
      ]
     },
     "execution_count": 10,
     "metadata": {},
     "output_type": "execute_result"
    }
   ],
   "source": [
    "1e-6, 16e-6, 31e-6, 46e-6, 61e-6, 76e-6"
   ]
  },
  {
   "cell_type": "code",
   "execution_count": 21,
   "metadata": {},
   "outputs": [
    {
     "data": {
      "text/plain": [
       "6e-05"
      ]
     },
     "execution_count": 21,
     "metadata": {},
     "output_type": "execute_result"
    }
   ],
   "source": [
    "4*15e-6"
   ]
  },
  {
   "cell_type": "code",
   "execution_count": null,
   "metadata": {},
   "outputs": [],
   "source": []
  }
 ],
 "metadata": {
  "interpreter": {
   "hash": "cb6192f7dd681569dbace463fca839b201ed34f52572eca64b748034e5a6c3d0"
  },
  "kernelspec": {
   "display_name": "Python 3.8.10 ('venv': venv)",
   "language": "python",
   "name": "python3"
  },
  "language_info": {
   "codemirror_mode": {
    "name": "ipython",
    "version": 3
   },
   "file_extension": ".py",
   "mimetype": "text/x-python",
   "name": "python",
   "nbconvert_exporter": "python",
   "pygments_lexer": "ipython3",
   "version": "3.8.10"
  },
  "orig_nbformat": 4
 },
 "nbformat": 4,
 "nbformat_minor": 2
}
